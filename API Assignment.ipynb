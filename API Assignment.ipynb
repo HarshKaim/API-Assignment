{
 "cells": [
  {
   "cell_type": "markdown",
   "id": "4373fd1b-0326-459e-bb98-7ae71c9da269",
   "metadata": {},
   "source": [
    "Q1. What is an API? Give an example, where an API is used in real life.\n",
    "\n",
    "Ans. \n",
    "\n",
    "API stands for application programming interface it allows for communication between to different programs written on different systems and using different languages via a set of defined rules and protocols.\n",
    "\n",
    "API are used everywhere in real life from accessing a video on youtube to accesing your instagram profile. These apps do not store the all the data in itself we try to access data through them it sends an api call to the server which stores all this data and fetches the required data for us."
   ]
  },
  {
   "cell_type": "markdown",
   "id": "4e8ee3f0-a607-49fe-892d-e563510a619f",
   "metadata": {},
   "source": [
    "Q2. Give advantages and disadvantages of using API.\n",
    "\n",
    "Ans. \n",
    "\n",
    "Advantages of API: Easy integration between different software applications, scope for scalability, enhancement of functionality with the help of third party APIs.\n",
    "\n",
    "Disadvantages of API: Cost of using third party API, latency and delay because of too many API calls over the internet.z"
   ]
  },
  {
   "cell_type": "markdown",
   "id": "4b703773-19b9-4d7f-b3f4-598243b16a7f",
   "metadata": {},
   "source": [
    "Q3. What is a Web API? Differentiate between API and Web API.\n",
    "\n",
    "Ans. \n",
    "\n",
    "A web API is a type of API which is specifically used to access over the web. The key features of web API is that it is stateless and returns the data generally in web friendly format such as JSON, XML or HTML. The protocol used by web API is HTTPS.\n",
    "\n",
    "A web API is different from an API on the basis that an API can be made for accessing over the network whereas a web API is specifically for accessing via web."
   ]
  },
  {
   "cell_type": "markdown",
   "id": "bf2e5f27-c18a-4af1-818a-5798b32b20ef",
   "metadata": {},
   "source": [
    "Q4. Explain REST and SOAP Architecture. Mention shortcomings of SOAP.\n",
    "\n",
    "Ans. \n",
    "\n",
    "REST architecture stands for Represtational State Transfer is the method of developing API which follows HTTPS protocol.\n",
    "\n",
    "SOAP architecture which stands for Simple Object Access Protocol uses different protocols like TCP, SMTP etc for data transmission in the form of XML.\n",
    "\n",
    "The shortcoming of SOAP is that it is complex to implement."
   ]
  },
  {
   "cell_type": "markdown",
   "id": "dcb4ba0c-12a5-438b-8053-0549f94cc946",
   "metadata": {},
   "source": [
    "Q5. Differentiate between REST and SOAP.\n",
    "\n",
    "Ans. REST allows for API to be flexible, scalable and simple whereas with SOAP it is complex to implement but SOAP offers higher security for the APIs as compared to REST."
   ]
  },
  {
   "cell_type": "code",
   "execution_count": null,
   "id": "62a333cf-786e-4003-b189-bc8203852171",
   "metadata": {},
   "outputs": [],
   "source": []
  }
 ],
 "metadata": {
  "kernelspec": {
   "display_name": "Python 3 (ipykernel)",
   "language": "python",
   "name": "python3"
  },
  "language_info": {
   "codemirror_mode": {
    "name": "ipython",
    "version": 3
   },
   "file_extension": ".py",
   "mimetype": "text/x-python",
   "name": "python",
   "nbconvert_exporter": "python",
   "pygments_lexer": "ipython3",
   "version": "3.12.5"
  }
 },
 "nbformat": 4,
 "nbformat_minor": 5
}
